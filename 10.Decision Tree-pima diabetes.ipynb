{
 "cells": [
  {
   "cell_type": "code",
   "execution_count": 1,
   "metadata": {},
   "outputs": [],
   "source": [
    "import numpy as np\n",
    "import pandas as pd\n",
    "import seaborn as sns\n",
    "import matplotlib.pyplot as plt\n",
    "from sklearn import linear_model\n",
    "from sklearn import model_selection\n",
    "from sklearn import metrics\n",
    "from sklearn import preprocessing\n",
    "from sklearn import utils\n",
    "from sklearn import tree\n",
    "from sklearn import feature_selection\n",
    "from sklearn "
   ]
  },
  {
   "cell_type": "code",
   "execution_count": 3,
   "metadata": {},
   "outputs": [],
   "source": [
    "df=pd.read_csv(\"E://Programs/MACHINE LEARNING WITH PYTHON-GLOBSYN/datasets/pima_diabetics.csv\")"
   ]
  },
  {
   "cell_type": "code",
   "execution_count": 4,
   "metadata": {},
   "outputs": [],
   "source": [
    "X=df[[\"age\",\"pgc\",\"bmi\"]]\n",
    "y=df[\"class\"]"
   ]
  },
  {
   "cell_type": "code",
   "execution_count": 5,
   "metadata": {},
   "outputs": [],
   "source": [
    "Xtrain,Xtest,ytrain,ytest=model_selection.train_test_split(X,y,test_size=.2,random_state=42,stratify=y)"
   ]
  },
  {
   "cell_type": "markdown",
   "metadata": {},
   "source": [
    "# HYPER PARAMETER TUNING"
   ]
  },
  {
   "cell_type": "code",
   "execution_count": 16,
   "metadata": {},
   "outputs": [
    {
     "name": "stdout",
     "output_type": "stream",
     "text": [
      "[[87 13]\n",
      " [16 38]]\n",
      "accuracy : 0.8117\n",
      "precision : 0.7451\n",
      "recall : 0.7037\n",
      "f1-score : 0.7238\n",
      "AUC : 0.7869\n"
     ]
    }
   ],
   "source": [
    "model=tree.DecisionTreeClassifier(max_depth=5)\n",
    "model.fit(Xtrain,ytrain)\n",
    "predicted=model.predict(Xtest)\n",
    "printresult(ytest,predicted)\n",
    "depthlist=[d for d in range(4,10)]"
   ]
  },
  {
   "cell_type": "code",
   "execution_count": 9,
   "metadata": {},
   "outputs": [],
   "source": [
    "def printresult(actual,predicted):\n",
    "    confmatrix=metrics.confusion_matrix(actual,predicted)\n",
    "    accscore=metrics.accuracy_score(actual,predicted)\n",
    "    precscore=metrics.precision_score(actual,predicted)\n",
    "    recscore=metrics.recall_score(actual,predicted)\n",
    "    print(confmatrix)\n",
    "    print(\"accuracy : {:.4f}\".format(accscore))\n",
    "    print(\"precision : {:.4f}\".format(precscore))\n",
    "    print(\"recall : {:.4f}\".format(recscore))\n",
    "    print(\"f1-score : {:.4f}\".format(metrics.f1_score(actual,predicted)))\n",
    "    print(\"AUC : {:.4f}\".format(metrics.roc_auc_score(actual,predicted)))"
   ]
  },
  {
   "cell_type": "code",
   "execution_count": 17,
   "metadata": {},
   "outputs": [],
   "source": [
    "grid={\"max_depth\":depthlist}"
   ]
  },
  {
   "cell_type": "code",
   "execution_count": 18,
   "metadata": {},
   "outputs": [],
   "source": [
    "gridobj=model_selection.GridSearchCV(estimator=model,param_grid=grid,scoring=\"recall\")"
   ]
  },
  {
   "cell_type": "code",
   "execution_count": 19,
   "metadata": {},
   "outputs": [],
   "source": [
    "grid_fit=gridobj.fit(Xtrain,ytrain)"
   ]
  },
  {
   "cell_type": "code",
   "execution_count": 23,
   "metadata": {},
   "outputs": [
    {
     "name": "stdout",
     "output_type": "stream",
     "text": [
      "BEST PARAMETER :  {'max_depth': 6}\n",
      "BEST SCORE :  0.5980728744526514\n"
     ]
    }
   ],
   "source": [
    "print(\"BEST PARAMETER : \",grid_fit.best_params_)\n",
    "print(\"BEST SCORE : \",grid_fit.best_score_)"
   ]
  },
  {
   "cell_type": "code",
   "execution_count": 24,
   "metadata": {},
   "outputs": [],
   "source": [
    "best_model=grid_fit.best_estimator_"
   ]
  },
  {
   "cell_type": "code",
   "execution_count": 25,
   "metadata": {},
   "outputs": [
    {
     "name": "stdout",
     "output_type": "stream",
     "text": [
      "[[88 12]\n",
      " [21 33]]\n",
      "accuracy : 0.7857\n",
      "precision : 0.7333\n",
      "recall : 0.6111\n",
      "f1-score : 0.6667\n",
      "AUC : 0.7456\n"
     ]
    }
   ],
   "source": [
    "predicted=best_model.predict(Xtest)\n",
    "printresult(ytest,predicted)"
   ]
  },
  {
   "cell_type": "code",
   "execution_count": null,
   "metadata": {},
   "outputs": [],
   "source": []
  }
 ],
 "metadata": {
  "kernelspec": {
   "display_name": "Python 3",
   "language": "python",
   "name": "python3"
  },
  "language_info": {
   "codemirror_mode": {
    "name": "ipython",
    "version": 3
   },
   "file_extension": ".py",
   "mimetype": "text/x-python",
   "name": "python",
   "nbconvert_exporter": "python",
   "pygments_lexer": "ipython3",
   "version": "3.7.0"
  }
 },
 "nbformat": 4,
 "nbformat_minor": 2
}
