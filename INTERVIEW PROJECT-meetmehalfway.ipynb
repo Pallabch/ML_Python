{
 "cells": [
  {
   "cell_type": "code",
   "execution_count": 206,
   "metadata": {},
   "outputs": [],
   "source": [
    "import numpy as np\n",
    "import pandas as pd\n",
    "import seaborn as sns\n",
    "import matplotlib.pyplot as plt\n",
    "import datetime\n",
    "import calendar\n",
    "from sklearn.ensemble import RandomForestClassifier\n",
    "from sklearn.feature_selection import SelectFromModel\n",
    "from sklearn import model_selection\n",
    "from sklearn.feature_selection import RFECV\n",
    "from sklearn import linear_model\n",
    "from sklearn import metrics\n",
    "from sklearn import feature_selection\n",
    "from sklearn import naive_bayes\n",
    "from sklearn.feature_selection import VarianceThreshold"
   ]
  },
  {
   "cell_type": "code",
   "execution_count": 99,
   "metadata": {},
   "outputs": [],
   "source": [
    "df=pd.read_csv(\"Interview.csv\")"
   ]
  },
  {
   "cell_type": "code",
   "execution_count": 100,
   "metadata": {},
   "outputs": [
    {
     "data": {
      "text/html": [
       "<div>\n",
       "<style scoped>\n",
       "    .dataframe tbody tr th:only-of-type {\n",
       "        vertical-align: middle;\n",
       "    }\n",
       "\n",
       "    .dataframe tbody tr th {\n",
       "        vertical-align: top;\n",
       "    }\n",
       "\n",
       "    .dataframe thead th {\n",
       "        text-align: right;\n",
       "    }\n",
       "</style>\n",
       "<table border=\"1\" class=\"dataframe\">\n",
       "  <thead>\n",
       "    <tr style=\"text-align: right;\">\n",
       "      <th></th>\n",
       "      <th>Date of Interview</th>\n",
       "      <th>Client name</th>\n",
       "      <th>Industry</th>\n",
       "      <th>Location</th>\n",
       "      <th>Position to be closed</th>\n",
       "      <th>Nature of Skillset</th>\n",
       "      <th>Interview Type</th>\n",
       "      <th>Name(Cand ID)</th>\n",
       "      <th>Gender</th>\n",
       "      <th>Candidate Current Location</th>\n",
       "      <th>...</th>\n",
       "      <th>Are you clear with the venue details and the landmark.</th>\n",
       "      <th>Has the call letter been shared</th>\n",
       "      <th>Expected Attendance</th>\n",
       "      <th>Observed Attendance</th>\n",
       "      <th>Marital Status</th>\n",
       "      <th>Unnamed: 23</th>\n",
       "      <th>Unnamed: 24</th>\n",
       "      <th>Unnamed: 25</th>\n",
       "      <th>Unnamed: 26</th>\n",
       "      <th>Unnamed: 27</th>\n",
       "    </tr>\n",
       "  </thead>\n",
       "  <tbody>\n",
       "    <tr>\n",
       "      <th>0</th>\n",
       "      <td>13.02.2015</td>\n",
       "      <td>Hospira</td>\n",
       "      <td>Pharmaceuticals</td>\n",
       "      <td>Chennai</td>\n",
       "      <td>Production- Sterile</td>\n",
       "      <td>Routine</td>\n",
       "      <td>Scheduled Walkin</td>\n",
       "      <td>Candidate 1</td>\n",
       "      <td>Male</td>\n",
       "      <td>Chennai</td>\n",
       "      <td>...</td>\n",
       "      <td>Yes</td>\n",
       "      <td>Yes</td>\n",
       "      <td>Yes</td>\n",
       "      <td>No</td>\n",
       "      <td>Single</td>\n",
       "      <td>NaN</td>\n",
       "      <td>NaN</td>\n",
       "      <td>NaN</td>\n",
       "      <td>NaN</td>\n",
       "      <td>NaN</td>\n",
       "    </tr>\n",
       "    <tr>\n",
       "      <th>1</th>\n",
       "      <td>13.02.2015</td>\n",
       "      <td>Hospira</td>\n",
       "      <td>Pharmaceuticals</td>\n",
       "      <td>Chennai</td>\n",
       "      <td>Production- Sterile</td>\n",
       "      <td>Routine</td>\n",
       "      <td>Scheduled Walkin</td>\n",
       "      <td>Candidate 2</td>\n",
       "      <td>Male</td>\n",
       "      <td>Chennai</td>\n",
       "      <td>...</td>\n",
       "      <td>Yes</td>\n",
       "      <td>Yes</td>\n",
       "      <td>Yes</td>\n",
       "      <td>No</td>\n",
       "      <td>Single</td>\n",
       "      <td>NaN</td>\n",
       "      <td>NaN</td>\n",
       "      <td>NaN</td>\n",
       "      <td>NaN</td>\n",
       "      <td>NaN</td>\n",
       "    </tr>\n",
       "    <tr>\n",
       "      <th>2</th>\n",
       "      <td>13.02.2015</td>\n",
       "      <td>Hospira</td>\n",
       "      <td>Pharmaceuticals</td>\n",
       "      <td>Chennai</td>\n",
       "      <td>Production- Sterile</td>\n",
       "      <td>Routine</td>\n",
       "      <td>Scheduled Walkin</td>\n",
       "      <td>Candidate 3</td>\n",
       "      <td>Male</td>\n",
       "      <td>Chennai</td>\n",
       "      <td>...</td>\n",
       "      <td>NaN</td>\n",
       "      <td>NaN</td>\n",
       "      <td>Uncertain</td>\n",
       "      <td>No</td>\n",
       "      <td>Single</td>\n",
       "      <td>NaN</td>\n",
       "      <td>NaN</td>\n",
       "      <td>NaN</td>\n",
       "      <td>NaN</td>\n",
       "      <td>NaN</td>\n",
       "    </tr>\n",
       "    <tr>\n",
       "      <th>3</th>\n",
       "      <td>13.02.2015</td>\n",
       "      <td>Hospira</td>\n",
       "      <td>Pharmaceuticals</td>\n",
       "      <td>Chennai</td>\n",
       "      <td>Production- Sterile</td>\n",
       "      <td>Routine</td>\n",
       "      <td>Scheduled Walkin</td>\n",
       "      <td>Candidate 4</td>\n",
       "      <td>Male</td>\n",
       "      <td>Chennai</td>\n",
       "      <td>...</td>\n",
       "      <td>Yes</td>\n",
       "      <td>Yes</td>\n",
       "      <td>Uncertain</td>\n",
       "      <td>No</td>\n",
       "      <td>Single</td>\n",
       "      <td>NaN</td>\n",
       "      <td>NaN</td>\n",
       "      <td>NaN</td>\n",
       "      <td>NaN</td>\n",
       "      <td>NaN</td>\n",
       "    </tr>\n",
       "    <tr>\n",
       "      <th>4</th>\n",
       "      <td>13.02.2015</td>\n",
       "      <td>Hospira</td>\n",
       "      <td>Pharmaceuticals</td>\n",
       "      <td>Chennai</td>\n",
       "      <td>Production- Sterile</td>\n",
       "      <td>Routine</td>\n",
       "      <td>Scheduled Walkin</td>\n",
       "      <td>Candidate 5</td>\n",
       "      <td>Male</td>\n",
       "      <td>Chennai</td>\n",
       "      <td>...</td>\n",
       "      <td>Yes</td>\n",
       "      <td>Yes</td>\n",
       "      <td>Uncertain</td>\n",
       "      <td>No</td>\n",
       "      <td>Married</td>\n",
       "      <td>NaN</td>\n",
       "      <td>NaN</td>\n",
       "      <td>NaN</td>\n",
       "      <td>NaN</td>\n",
       "      <td>NaN</td>\n",
       "    </tr>\n",
       "  </tbody>\n",
       "</table>\n",
       "<p>5 rows × 28 columns</p>\n",
       "</div>"
      ],
      "text/plain": [
       "  Date of Interview Client name         Industry Location  \\\n",
       "0        13.02.2015     Hospira  Pharmaceuticals  Chennai   \n",
       "1        13.02.2015     Hospira  Pharmaceuticals  Chennai   \n",
       "2        13.02.2015     Hospira  Pharmaceuticals  Chennai   \n",
       "3        13.02.2015     Hospira  Pharmaceuticals  Chennai   \n",
       "4        13.02.2015     Hospira  Pharmaceuticals  Chennai   \n",
       "\n",
       "  Position to be closed Nature of Skillset    Interview Type Name(Cand ID)  \\\n",
       "0   Production- Sterile            Routine  Scheduled Walkin   Candidate 1   \n",
       "1   Production- Sterile            Routine  Scheduled Walkin   Candidate 2   \n",
       "2   Production- Sterile            Routine  Scheduled Walkin   Candidate 3   \n",
       "3   Production- Sterile            Routine  Scheduled Walkin   Candidate 4   \n",
       "4   Production- Sterile            Routine  Scheduled Walkin   Candidate 5   \n",
       "\n",
       "  Gender Candidate Current Location     ...      \\\n",
       "0   Male                    Chennai     ...       \n",
       "1   Male                    Chennai     ...       \n",
       "2   Male                    Chennai     ...       \n",
       "3   Male                    Chennai     ...       \n",
       "4   Male                    Chennai     ...       \n",
       "\n",
       "  Are you clear with the venue details and the landmark.  \\\n",
       "0                                                Yes       \n",
       "1                                                Yes       \n",
       "2                                                NaN       \n",
       "3                                                Yes       \n",
       "4                                                Yes       \n",
       "\n",
       "  Has the call letter been shared Expected Attendance Observed Attendance  \\\n",
       "0                             Yes                 Yes                  No   \n",
       "1                             Yes                 Yes                  No   \n",
       "2                             NaN           Uncertain                  No   \n",
       "3                             Yes           Uncertain                  No   \n",
       "4                             Yes           Uncertain                  No   \n",
       "\n",
       "  Marital Status Unnamed: 23 Unnamed: 24 Unnamed: 25 Unnamed: 26 Unnamed: 27  \n",
       "0         Single         NaN         NaN         NaN         NaN         NaN  \n",
       "1         Single         NaN         NaN         NaN         NaN         NaN  \n",
       "2         Single         NaN         NaN         NaN         NaN         NaN  \n",
       "3         Single         NaN         NaN         NaN         NaN         NaN  \n",
       "4        Married         NaN         NaN         NaN         NaN         NaN  \n",
       "\n",
       "[5 rows x 28 columns]"
      ]
     },
     "execution_count": 100,
     "metadata": {},
     "output_type": "execute_result"
    }
   ],
   "source": [
    "df.head()"
   ]
  },
  {
   "cell_type": "code",
   "execution_count": 101,
   "metadata": {},
   "outputs": [
    {
     "name": "stdout",
     "output_type": "stream",
     "text": [
      "Index(['Unnamed: 23', 'Unnamed: 24', 'Unnamed: 25', 'Unnamed: 26',\n",
      "       'Unnamed: 27'],\n",
      "      dtype='object')\n"
     ]
    }
   ],
   "source": [
    "print(df.columns[-5:])\n",
    "df[df.columns[-5:]].describe()\n",
    "df.drop(df.columns[-5:],axis=1,inplace=True)"
   ]
  },
  {
   "cell_type": "raw",
   "metadata": {},
   "source": [
    "f=open(\"/home/soham/Desktop/columns\",\"w\")\n",
    "for col in df.columns:\n",
    "    f.write(\"\\\"\"+col+\"\\\"\"+\" : \\\"\\\", \\n\")\n",
    "f.close()\n",
    "\n",
    "f=open(\"/home/soham/Desktop/markdown\",\"w\")\n",
    "for k in dic.keys():\n",
    "    f.write(\"|\"+k+\"|\"+dic[k]+\"|\\n\")\n",
    "f.close()"
   ]
  },
  {
   "cell_type": "code",
   "execution_count": 102,
   "metadata": {},
   "outputs": [],
   "source": [
    "col_dic={\"Date of Interview\" : \"doi\",\n",
    "\"Client name\" : \"cl_nam\",\n",
    "\"Industry\" : \"indus\",\n",
    "\"Location\" : \"cl_loc\",\n",
    "\"Position to be closed\" : \"pos\",\n",
    "\"Nature of Skillset\" : \"skill\",\n",
    "\"Interview Type\" : \"intrvw_typ\",\n",
    "\"Name(Cand ID)\" : \"cand_nam\",\n",
    "\"Gender\" : \"gend\",\n",
    "\"Candidate Current Location\" : \"cand_cur_loc\",\n",
    "\"Candidate Job Location\" : \"cand_j_loc\",\n",
    "\"Interview Venue\" : \"intrvw_ven\",\n",
    "\"Candidate Native location\" : \"cand_nat_loc\",\n",
    "\"Have you obtained the necessary permission to start at the required time\" : \"enq_perm\",\n",
    "\"Hope there will be no unscheduled meetings\" : \"enq_unsch_meet\",\n",
    "\"Can I Call you three hours before the interview and follow up on your attendance for the interview\" : \"enq_call\",\n",
    "\"Can I have an alternative number/ desk number. I assure you that I will not trouble you too much\" : \"enq_num\",\n",
    "\"Have you taken a printout of your updated resume. Have you read the JD and understood the same\" : \"enq_resume\",\n",
    "\"Are you clear with the venue details and the landmark.\" : \"enq_ven\",\n",
    "\"Has the call letter been shared\" : \"enq_call_letter\",\n",
    "\"Expected Attendance\" : \"expc_at\",\n",
    "\"Observed Attendance\" : \"obs_at\",\n",
    "\"Marital Status\" : \"married\"}"
   ]
  },
  {
   "cell_type": "code",
   "execution_count": 103,
   "metadata": {},
   "outputs": [],
   "source": [
    "df.rename(columns=col_dic,inplace=True)"
   ]
  },
  {
   "cell_type": "markdown",
   "metadata": {},
   "source": [
    "|Column|Renamed|\n",
    "|---|---|\n",
    "|Date of Interview|doi|\n",
    "|Client name|cl_nam|\n",
    "|Industry|indus|\n",
    "|Location|cl_loc|\n",
    "|Position to be closed|pos|\n",
    "|Nature of Skillset|skill|\n",
    "|Interview Type|intrvw_typ|\n",
    "|Name(Cand ID)|cand_nam|\n",
    "|Gender|gend|\n",
    "|Candidate Current Location|cand_cur_loc|\n",
    "|Candidate Job Location|cand_j_loc|\n",
    "|Interview Venue|intrvw_ven|\n",
    "|Candidate Native location|cand_nat_loc|\n",
    "|Have you obtained the necessary permission to start at the required time|enq_perm|\n",
    "|Hope there will be no unscheduled meetings|enq_unsch_meet|\n",
    "|Can I Call you three hours before the interview and follow up on your attendance for the interview|enq_call|\n",
    "|Can I have an alternative number/ desk number. I assure you that I will not trouble you too much|enq_num|\n",
    "|Have you taken a printout of your updated resume. Have you read the JD and understood the same|enq_resume|\n",
    "|Are you clear with the venue details and the landmark.|enq_ven|\n",
    "|Has the call letter been shared|enq_call_letter|\n",
    "|Expected Attendance|expc_at|\n",
    "|Observed Attendance|obs_at|\n",
    "|Marital Status|married|"
   ]
  },
  {
   "cell_type": "markdown",
   "metadata": {},
   "source": [
    "---  \n",
    "---  \n",
    "### This section is for testing "
   ]
  },
  {
   "cell_type": "code",
   "execution_count": 104,
   "metadata": {},
   "outputs": [],
   "source": [
    "df1=df.copy()"
   ]
  },
  {
   "cell_type": "code",
   "execution_count": 105,
   "metadata": {},
   "outputs": [],
   "source": [
    "#df_temp=df1.copy()\n",
    "#df1=df_temp.copy()"
   ]
  },
  {
   "cell_type": "code",
   "execution_count": 106,
   "metadata": {},
   "outputs": [],
   "source": [
    "# for col in df.columns[1:]:\n",
    "#     print(df_temp[col].value_counts())\n",
    "#     print(\"================================================\")"
   ]
  },
  {
   "cell_type": "markdown",
   "metadata": {},
   "source": [
    "---  \n",
    "---  \n",
    "## Client Name :  "
   ]
  },
  {
   "cell_type": "code",
   "execution_count": 107,
   "metadata": {},
   "outputs": [
    {
     "data": {
      "text/plain": [
       "Standard Chartered Bank            904\n",
       "Pfizer                              75\n",
       "Hospira                             75\n",
       "Aon Hewitt                          28\n",
       "Flextronics                         23\n",
       "ANZ                                 22\n",
       "Hewitt                              20\n",
       "UST                                 18\n",
       "Prodapt                             17\n",
       "Standard Chartered Bank Chennai     17\n",
       "Astrazeneca                         15\n",
       "Williams Lea                        11\n",
       "Barclays                             5\n",
       "Aon hewitt Gurgaon                   2\n",
       "Woori Bank                           1\n",
       "﻿﻿                                   1\n",
       "Name: cl_nam, dtype: int64"
      ]
     },
     "execution_count": 107,
     "metadata": {},
     "output_type": "execute_result"
    }
   ],
   "source": [
    "df1.cl_nam.value_counts()"
   ]
  },
  {
   "cell_type": "code",
   "execution_count": 108,
   "metadata": {},
   "outputs": [],
   "source": [
    "l1=[\n",
    "    \"Standard Chartered Bank Chennai\",\n",
    "    \"Hewitt\",\n",
    "    \"Aon hewitt Gurgaon\"\n",
    "]\n",
    "\n",
    "l2=[\n",
    "    \"standard chartered bank\",\n",
    "    \"aon hewitt\",\n",
    "    \"aon hewitt\",\n",
    "]"
   ]
  },
  {
   "cell_type": "code",
   "execution_count": 109,
   "metadata": {},
   "outputs": [
    {
     "data": {
      "text/plain": [
       "standard chartered bank    921\n",
       "pfizer                      75\n",
       "hospira                     75\n",
       "aon hewitt                  50\n",
       "flextronics                 23\n",
       "anz                         22\n",
       "ust                         18\n",
       "prodapt                     17\n",
       "astrazeneca                 15\n",
       "williams lea                11\n",
       "barclays                     5\n",
       "﻿﻿                           1\n",
       "woori bank                   1\n",
       "Name: cl_nam, dtype: int64"
      ]
     },
     "execution_count": 109,
     "metadata": {},
     "output_type": "execute_result"
    }
   ],
   "source": [
    "df1.cl_nam.replace(l1,l2,inplace=True)\n",
    "df1.cl_nam=df1.cl_nam.str.lower()\n",
    "df1.cl_nam.value_counts()"
   ]
  },
  {
   "cell_type": "code",
   "execution_count": 110,
   "metadata": {},
   "outputs": [],
   "source": [
    "df_temp=df1.copy()"
   ]
  },
  {
   "cell_type": "markdown",
   "metadata": {},
   "source": [
    "---  \n",
    "---  \n",
    "## Industry :"
   ]
  },
  {
   "cell_type": "code",
   "execution_count": 111,
   "metadata": {},
   "outputs": [
    {
     "data": {
      "text/plain": [
       "BFSI                        949\n",
       "Pharmaceuticals             165\n",
       "IT Products and Services     45\n",
       "IT Services                  23\n",
       "Electronics                  23\n",
       "Telecom                      17\n",
       "IT                           11\n",
       "Name: indus, dtype: int64"
      ]
     },
     "execution_count": 111,
     "metadata": {},
     "output_type": "execute_result"
    }
   ],
   "source": [
    "df1.indus.value_counts()"
   ]
  },
  {
   "cell_type": "code",
   "execution_count": 112,
   "metadata": {},
   "outputs": [
    {
     "name": "stdout",
     "output_type": "stream",
     "text": [
      "bfsi               949\n",
      "pharmaceuticals    165\n",
      "it                  79\n",
      "electronics         23\n",
      "telecom             17\n",
      "Name: indus, dtype: int64\n"
     ]
    }
   ],
   "source": [
    "df1.indus.replace([\"IT Products and Services\",\"IT Services\"],[\"IT\",\"IT\"],inplace=True)\n",
    "df1.indus=df1.indus.str.lower()\n",
    "print(df1.indus.value_counts())"
   ]
  },
  {
   "cell_type": "code",
   "execution_count": 113,
   "metadata": {},
   "outputs": [],
   "source": [
    "df_temp=df1.copy()"
   ]
  },
  {
   "cell_type": "markdown",
   "metadata": {},
   "source": [
    "---  \n",
    "---  \n",
    "## Client Location:  "
   ]
  },
  {
   "cell_type": "code",
   "execution_count": 114,
   "metadata": {},
   "outputs": [
    {
     "name": "stdout",
     "output_type": "stream",
     "text": [
      "Chennai       754\n",
      "Bangalore     292\n",
      "chennai        86\n",
      "Hyderabad      38\n",
      "Gurgaon        33\n",
      "Noida          15\n",
      "- Cochin-       9\n",
      "chennai         3\n",
      "Gurgaonr        1\n",
      "CHENNAI         1\n",
      "Delhi           1\n",
      "Name: cl_loc, dtype: int64\n"
     ]
    }
   ],
   "source": [
    "print(df1.cl_loc.value_counts())"
   ]
  },
  {
   "cell_type": "code",
   "execution_count": 115,
   "metadata": {},
   "outputs": [
    {
     "name": "stdout",
     "output_type": "stream",
     "text": [
      "chennai      844\n",
      "bangalore    292\n",
      "hyderabad     38\n",
      "gurgaon       34\n",
      "noida         15\n",
      "cochin         9\n",
      "delhi          1\n",
      "Name: cl_loc, dtype: int64\n"
     ]
    }
   ],
   "source": [
    "df1.cl_loc=df1.cl_loc.str.lower().str.strip()\n",
    "df1.cl_loc.replace([\"gurgaonr\",\"- cochin-\"],[\"gurgaon\",\"cochin\"],inplace=True)\n",
    "print(df1.cl_loc.value_counts())"
   ]
  },
  {
   "cell_type": "code",
   "execution_count": 116,
   "metadata": {},
   "outputs": [],
   "source": [
    "df_temp=df1.copy()"
   ]
  },
  {
   "cell_type": "markdown",
   "metadata": {},
   "source": [
    "---  \n",
    "---  \n",
    "## Position to be closed:"
   ]
  },
  {
   "cell_type": "code",
   "execution_count": 117,
   "metadata": {},
   "outputs": [
    {
     "name": "stdout",
     "output_type": "stream",
     "text": [
      "Routine                1023\n",
      "Niche                   163\n",
      "Dot Net                  18\n",
      "Trade Finance            11\n",
      "AML                       8\n",
      "Production- Sterile       5\n",
      "Selenium testing          5\n",
      "Name: pos, dtype: int64\n"
     ]
    }
   ],
   "source": [
    "print(df1.pos.value_counts())"
   ]
  },
  {
   "cell_type": "code",
   "execution_count": 118,
   "metadata": {},
   "outputs": [
    {
     "name": "stdout",
     "output_type": "stream",
     "text": [
      "routine                1023\n",
      "niche                   163\n",
      "dot net                  18\n",
      "trade finance            11\n",
      "aml                       8\n",
      "production- sterile       5\n",
      "selenium testing          5\n",
      "Name: pos, dtype: int64\n"
     ]
    }
   ],
   "source": [
    "df1.pos=df1.pos.str.lower()\n",
    "print(df1.pos.value_counts())"
   ]
  },
  {
   "cell_type": "markdown",
   "metadata": {},
   "source": [
    "---  \n",
    "---  \n",
    "## Nature of skill set:  \n",
    "too many weird values. Will look at it later"
   ]
  },
  {
   "cell_type": "code",
   "execution_count": 119,
   "metadata": {},
   "outputs": [
    {
     "name": "stdout",
     "output_type": "stream",
     "text": [
      "JAVA/J2EE/Struts/Hibernate    220\n",
      "Accounting Operations          86\n",
      "Fresher                        86\n",
      "AML/KYC/CDD                    84\n",
      "CDD KYC                        52\n",
      "Name: skill, dtype: int64\n"
     ]
    }
   ],
   "source": [
    "print(df1.skill.value_counts()[:5])"
   ]
  },
  {
   "cell_type": "markdown",
   "metadata": {},
   "source": [
    "---  \n",
    "---  \n",
    "## Interview type:"
   ]
  },
  {
   "cell_type": "code",
   "execution_count": 120,
   "metadata": {},
   "outputs": [
    {
     "data": {
      "text/plain": [
       "Scheduled Walk In    456\n",
       "Scheduled            371\n",
       "Walkin               189\n",
       "Scheduled Walkin     189\n",
       "Walkin                27\n",
       "Sceduled walkin        1\n",
       "Name: intrvw_typ, dtype: int64"
      ]
     },
     "execution_count": 120,
     "metadata": {},
     "output_type": "execute_result"
    }
   ],
   "source": [
    "df1.intrvw_typ.value_counts()"
   ]
  },
  {
   "cell_type": "code",
   "execution_count": 121,
   "metadata": {},
   "outputs": [
    {
     "data": {
      "text/plain": [
       "scheduled walkin    646\n",
       "scheduled           371\n",
       "walkin              216\n",
       "Name: intrvw_typ, dtype: int64"
      ]
     },
     "execution_count": 121,
     "metadata": {},
     "output_type": "execute_result"
    }
   ],
   "source": [
    "df1.intrvw_typ=df1.intrvw_typ.str.lower().str.strip()\n",
    "df1.intrvw_typ.replace([\"scheduled walk in\",\"sceduled walkin\"],[\"scheduled walkin\",\"scheduled walkin\"],inplace=True)\n",
    "df1.intrvw_typ.value_counts()"
   ]
  },
  {
   "cell_type": "code",
   "execution_count": 122,
   "metadata": {},
   "outputs": [],
   "source": [
    "df_temp=df1.copy()"
   ]
  },
  {
   "cell_type": "markdown",
   "metadata": {},
   "source": [
    "---  \n",
    "---  \n",
    "## Name(Cand ID):  "
   ]
  },
  {
   "cell_type": "markdown",
   "metadata": {},
   "source": [
    "---  \n",
    "---  \n",
    "## Gender:"
   ]
  },
  {
   "cell_type": "code",
   "execution_count": 123,
   "metadata": {},
   "outputs": [],
   "source": [
    "df1.gend=df1.gend.str.lower().str.strip()"
   ]
  },
  {
   "cell_type": "markdown",
   "metadata": {},
   "source": [
    "---  \n",
    "---  \n",
    "## Candidate current location:"
   ]
  },
  {
   "cell_type": "code",
   "execution_count": 124,
   "metadata": {},
   "outputs": [
    {
     "data": {
      "text/plain": [
       "Chennai       754\n",
       "Bangalore     292\n",
       "chennai        86\n",
       "Hyderabad      38\n",
       "Gurgaon        34\n",
       "Noida          15\n",
       "- Cochin-       9\n",
       "chennai         3\n",
       "CHENNAI         1\n",
       "Delhi           1\n",
       "Name: cand_cur_loc, dtype: int64"
      ]
     },
     "execution_count": 124,
     "metadata": {},
     "output_type": "execute_result"
    }
   ],
   "source": [
    "df1.cand_cur_loc.value_counts()"
   ]
  },
  {
   "cell_type": "code",
   "execution_count": 125,
   "metadata": {},
   "outputs": [
    {
     "name": "stdout",
     "output_type": "stream",
     "text": [
      "chennai      844\n",
      "bangalore    292\n",
      "hyderabad     38\n",
      "gurgaon       34\n",
      "noida         15\n",
      "cochin         9\n",
      "delhi          1\n",
      "Name: cand_cur_loc, dtype: int64\n"
     ]
    }
   ],
   "source": [
    "df1.cand_cur_loc=df1.cand_cur_loc.str.lower().str.strip()\n",
    "df1.cand_cur_loc.replace([\"- cochin-\"],[\"cochin\"],inplace=True)\n",
    "print(df1.cand_cur_loc.value_counts())"
   ]
  },
  {
   "cell_type": "code",
   "execution_count": 126,
   "metadata": {},
   "outputs": [],
   "source": [
    "df_temp=df1.copy()"
   ]
  },
  {
   "cell_type": "markdown",
   "metadata": {},
   "source": [
    "---  \n",
    "---  \n",
    "## Candidate Job locations:"
   ]
  },
  {
   "cell_type": "code",
   "execution_count": 127,
   "metadata": {},
   "outputs": [
    {
     "data": {
      "text/plain": [
       "Chennai          893\n",
       "Bangalore        259\n",
       "Gurgaon           35\n",
       "Visakapatinam     21\n",
       "Noida             15\n",
       "- Cochin-          9\n",
       "Hosur              1\n",
       "Name: cand_j_loc, dtype: int64"
      ]
     },
     "execution_count": 127,
     "metadata": {},
     "output_type": "execute_result"
    }
   ],
   "source": [
    "df1.cand_j_loc.value_counts()"
   ]
  },
  {
   "cell_type": "code",
   "execution_count": 128,
   "metadata": {},
   "outputs": [
    {
     "name": "stdout",
     "output_type": "stream",
     "text": [
      "chennai      844\n",
      "bangalore    292\n",
      "hyderabad     38\n",
      "gurgaon       34\n",
      "noida         15\n",
      "cochin         9\n",
      "delhi          1\n",
      "Name: cand_j_loc, dtype: int64\n"
     ]
    }
   ],
   "source": [
    "df1.cand_j_loc=df1.cand_cur_loc.str.lower().str.strip()\n",
    "df1.cand_j_loc.replace([\"- cochin-\"],[\"cochin\"],inplace=True)\n",
    "print(df1.cand_j_loc.value_counts())"
   ]
  },
  {
   "cell_type": "code",
   "execution_count": 129,
   "metadata": {},
   "outputs": [],
   "source": [
    "df_temp=df1.copy()"
   ]
  },
  {
   "cell_type": "markdown",
   "metadata": {},
   "source": [
    "---  \n",
    "---  \n",
    "## Interview venue:"
   ]
  },
  {
   "cell_type": "code",
   "execution_count": 130,
   "metadata": {},
   "outputs": [
    {
     "data": {
      "text/plain": [
       "Chennai       852\n",
       "Bangalore     277\n",
       "Hyderabad      40\n",
       "Gurgaon        35\n",
       "Noida          15\n",
       "- Cochin-       9\n",
       "Hosur           5\n",
       "Name: intrvw_ven, dtype: int64"
      ]
     },
     "execution_count": 130,
     "metadata": {},
     "output_type": "execute_result"
    }
   ],
   "source": [
    "df1.intrvw_ven.value_counts()"
   ]
  },
  {
   "cell_type": "code",
   "execution_count": 131,
   "metadata": {},
   "outputs": [
    {
     "name": "stdout",
     "output_type": "stream",
     "text": [
      "chennai      852\n",
      "bangalore    277\n",
      "hyderabad     40\n",
      "gurgaon       35\n",
      "noida         15\n",
      "cochin         9\n",
      "hosur          5\n",
      "Name: intrvw_ven, dtype: int64\n"
     ]
    }
   ],
   "source": [
    "df1.intrvw_ven=df1.intrvw_ven.str.lower().str.strip()\n",
    "df1.intrvw_ven.replace([\"- cochin-\"],[\"cochin\"],inplace=True)\n",
    "print(df1.intrvw_ven.value_counts())"
   ]
  },
  {
   "cell_type": "code",
   "execution_count": 132,
   "metadata": {},
   "outputs": [],
   "source": [
    "df_temp=df1.copy()"
   ]
  },
  {
   "cell_type": "markdown",
   "metadata": {},
   "source": [
    "---  \n",
    "---  \n",
    "## Candidate native location:  \n",
    "### dont know what to do with this"
   ]
  },
  {
   "cell_type": "code",
   "execution_count": 133,
   "metadata": {},
   "outputs": [],
   "source": [
    "l1=df1.cand_nat_loc.str.lower().str.strip().value_counts().index.tolist()"
   ]
  },
  {
   "cell_type": "markdown",
   "metadata": {},
   "source": [
    "---  \n",
    "---  \n",
    "## Have you obtained the necessary permission to start at the required time"
   ]
  },
  {
   "cell_type": "code",
   "execution_count": 134,
   "metadata": {},
   "outputs": [
    {
     "data": {
      "text/plain": [
       "Yes               917\n",
       "No                 79\n",
       "Not yet            19\n",
       "Na                  5\n",
       "Yet to confirm      4\n",
       "yes                 4\n",
       "NO                  1\n",
       "Name: enq_perm, dtype: int64"
      ]
     },
     "execution_count": 134,
     "metadata": {},
     "output_type": "execute_result"
    }
   ],
   "source": [
    "df1.enq_perm.value_counts()"
   ]
  },
  {
   "cell_type": "code",
   "execution_count": 135,
   "metadata": {},
   "outputs": [
    {
     "name": "stdout",
     "output_type": "stream",
     "text": [
      "yes    921\n",
      "no     108\n",
      "Name: enq_perm, dtype: int64\n"
     ]
    }
   ],
   "source": [
    "df1.enq_perm=df1.enq_perm.str.lower()\n",
    "df1.enq_perm.replace([\"not yet\",\"na\",\"yet to confirm\"],[\"no\",\"no\",\"no\"],inplace=True)\n",
    "print(df1.enq_perm.value_counts())"
   ]
  },
  {
   "cell_type": "code",
   "execution_count": 136,
   "metadata": {},
   "outputs": [
    {
     "data": {
      "text/plain": [
       "205"
      ]
     },
     "execution_count": 136,
     "metadata": {},
     "output_type": "execute_result"
    }
   ],
   "source": [
    "#df_temp=df1.copy\n",
    "df1.enq_perm.isna().sum()"
   ]
  },
  {
   "cell_type": "code",
   "execution_count": 137,
   "metadata": {},
   "outputs": [],
   "source": [
    "df1['enq_perm'].fillna(\"uncertain\",inplace=True)\n",
    "df1.drop(df.index[[1233]], inplace = True)"
   ]
  },
  {
   "cell_type": "markdown",
   "metadata": {},
   "source": [
    "---  \n",
    "---  \n",
    "## Hope there will be no unscheduled meetings"
   ]
  },
  {
   "cell_type": "code",
   "execution_count": 138,
   "metadata": {},
   "outputs": [
    {
     "data": {
      "text/plain": [
       "yes         954\n",
       "na           20\n",
       "no            6\n",
       "not sure      5\n",
       "cant say      1\n",
       "Name: enq_unsch_meet, dtype: int64"
      ]
     },
     "execution_count": 138,
     "metadata": {},
     "output_type": "execute_result"
    }
   ],
   "source": [
    "df1.enq_unsch_meet.str.lower().value_counts()"
   ]
  },
  {
   "cell_type": "code",
   "execution_count": 139,
   "metadata": {},
   "outputs": [
    {
     "data": {
      "text/plain": [
       "yes          954\n",
       "no            26\n",
       "uncertain      6\n",
       "Name: enq_unsch_meet, dtype: int64"
      ]
     },
     "execution_count": 139,
     "metadata": {},
     "output_type": "execute_result"
    }
   ],
   "source": [
    "df1.enq_unsch_meet=df1.enq_unsch_meet.str.lower()\n",
    "df1.enq_unsch_meet.replace([\"na\",\"cant say\",\"not sure\"],[\"no\",\"uncertain\",\"uncertain\"],inplace=True)\n",
    "df1.enq_unsch_meet.value_counts()"
   ]
  },
  {
   "cell_type": "code",
   "execution_count": 140,
   "metadata": {},
   "outputs": [
    {
     "data": {
      "text/plain": [
       "247"
      ]
     },
     "execution_count": 140,
     "metadata": {},
     "output_type": "execute_result"
    }
   ],
   "source": [
    "df1.enq_unsch_meet.isna().sum()"
   ]
  },
  {
   "cell_type": "code",
   "execution_count": 141,
   "metadata": {},
   "outputs": [],
   "source": [
    "df1.enq_unsch_meet.fillna(\"uncertain\",inplace=True)"
   ]
  },
  {
   "cell_type": "code",
   "execution_count": 142,
   "metadata": {},
   "outputs": [],
   "source": [
    "df_temp=df1.copy()"
   ]
  },
  {
   "cell_type": "markdown",
   "metadata": {},
   "source": [
    "---  \n",
    "---  \n",
    "## Can I Call you three hours before the interview and follow up on your attendance for the interview"
   ]
  },
  {
   "cell_type": "code",
   "execution_count": 143,
   "metadata": {},
   "outputs": [
    {
     "data": {
      "text/plain": [
       "Yes        951\n",
       "Na          20\n",
       "No          10\n",
       "yes          4\n",
       "No Dont      1\n",
       "Name: enq_call, dtype: int64"
      ]
     },
     "execution_count": 143,
     "metadata": {},
     "output_type": "execute_result"
    }
   ],
   "source": [
    "df1.enq_call.value_counts()"
   ]
  },
  {
   "cell_type": "code",
   "execution_count": 144,
   "metadata": {},
   "outputs": [
    {
     "data": {
      "text/plain": [
       "yes    955\n",
       "no      31\n",
       "Name: enq_call, dtype: int64"
      ]
     },
     "execution_count": 144,
     "metadata": {},
     "output_type": "execute_result"
    }
   ],
   "source": [
    "df1.enq_call=df1.enq_call.str.lower()\n",
    "df1.enq_call.replace([\"na\",\"no dont\"],[\"no\",\"no\"],inplace=True)\n",
    "df1.enq_call.value_counts()"
   ]
  },
  {
   "cell_type": "code",
   "execution_count": 145,
   "metadata": {},
   "outputs": [],
   "source": [
    "df1.enq_call.fillna(\"uncertain\",inplace=True)"
   ]
  },
  {
   "cell_type": "code",
   "execution_count": 146,
   "metadata": {},
   "outputs": [],
   "source": [
    "df_temp=df1.copy()"
   ]
  },
  {
   "cell_type": "markdown",
   "metadata": {},
   "source": [
    "---  \n",
    "---  \n",
    "## Can I have an alternative number/ desk number. I assure you that I will not trouble you too much"
   ]
  },
  {
   "cell_type": "code",
   "execution_count": 147,
   "metadata": {},
   "outputs": [
    {
     "data": {
      "text/plain": [
       "Yes                          936\n",
       "No                            27\n",
       "Na                            19\n",
       "No I have only thi number      2\n",
       "na                             1\n",
       "yes                            1\n",
       "Name: enq_num, dtype: int64"
      ]
     },
     "execution_count": 147,
     "metadata": {},
     "output_type": "execute_result"
    }
   ],
   "source": [
    "df1.enq_num.value_counts()"
   ]
  },
  {
   "cell_type": "code",
   "execution_count": 148,
   "metadata": {},
   "outputs": [
    {
     "name": "stdout",
     "output_type": "stream",
     "text": [
      "yes    937\n",
      "no      49\n",
      "Name: enq_num, dtype: int64\n"
     ]
    }
   ],
   "source": [
    "df1.enq_num=df1.enq_num.str.lower()\n",
    "df1.enq_num.replace([\"na\",\"no i have only thi number\"],[\"no\",\"no\"],inplace=True)\n",
    "print(df1.enq_num.value_counts())"
   ]
  },
  {
   "cell_type": "code",
   "execution_count": 149,
   "metadata": {},
   "outputs": [],
   "source": [
    "df1.enq_num.fillna(\"uncertain\",inplace=True)"
   ]
  },
  {
   "cell_type": "markdown",
   "metadata": {},
   "source": [
    "---  \n",
    "---  \n",
    "## Have you taken a printout of your updated resume. Have you read the JD and understood the same"
   ]
  },
  {
   "cell_type": "code",
   "execution_count": 150,
   "metadata": {},
   "outputs": [
    {
     "data": {
      "text/plain": [
       "Yes                      940\n",
       "Na                        19\n",
       "No                        16\n",
       "Not Yet                    4\n",
       "yes                        2\n",
       "Not yet                    2\n",
       "na                         1\n",
       "No- will take it soon      1\n",
       "Name: enq_resume, dtype: int64"
      ]
     },
     "execution_count": 150,
     "metadata": {},
     "output_type": "execute_result"
    }
   ],
   "source": [
    "df1.enq_resume.value_counts()"
   ]
  },
  {
   "cell_type": "code",
   "execution_count": 151,
   "metadata": {},
   "outputs": [
    {
     "data": {
      "text/plain": [
       "yes    942\n",
       "no      43\n",
       "Name: enq_resume, dtype: int64"
      ]
     },
     "execution_count": 151,
     "metadata": {},
     "output_type": "execute_result"
    }
   ],
   "source": [
    "df1.enq_resume=df1.enq_resume.str.lower()\n",
    "df1.enq_resume.replace([\"na\",\"not yet\",\"no- will take it soon\"],[\"no\",\"no\",\"no\"],inplace=True)\n",
    "df1.enq_resume.value_counts()"
   ]
  },
  {
   "cell_type": "code",
   "execution_count": 152,
   "metadata": {},
   "outputs": [],
   "source": [
    "df1.enq_resume.fillna(\"uncertain\",inplace=True)"
   ]
  },
  {
   "cell_type": "code",
   "execution_count": 153,
   "metadata": {},
   "outputs": [],
   "source": [
    "df_temp=df1.copy()"
   ]
  },
  {
   "cell_type": "markdown",
   "metadata": {},
   "source": [
    "---  \n",
    "---  \n",
    "## Are you clear with the venue details and the landmark."
   ]
  },
  {
   "cell_type": "code",
   "execution_count": 154,
   "metadata": {},
   "outputs": [
    {
     "data": {
      "text/plain": [
       "Yes                    946\n",
       "Na                      19\n",
       "No                      14\n",
       "No- I need to check      2\n",
       "yes                      2\n",
       "na                       1\n",
       "no                       1\n",
       "Name: enq_ven, dtype: int64"
      ]
     },
     "execution_count": 154,
     "metadata": {},
     "output_type": "execute_result"
    }
   ],
   "source": [
    "df1.enq_ven.value_counts()"
   ]
  },
  {
   "cell_type": "code",
   "execution_count": 155,
   "metadata": {},
   "outputs": [
    {
     "name": "stdout",
     "output_type": "stream",
     "text": [
      "yes    948\n",
      "no      37\n",
      "Name: enq_ven, dtype: int64\n"
     ]
    }
   ],
   "source": [
    "df1.enq_ven=df1.enq_ven.str.lower()\n",
    "df1.enq_ven.replace([\"na\",\"no- i need to check\"],[\"no\",\"no\"],inplace=True)\n",
    "print(df1.enq_ven.value_counts())"
   ]
  },
  {
   "cell_type": "code",
   "execution_count": 156,
   "metadata": {},
   "outputs": [],
   "source": [
    "df1.enq_ven.fillna(\"uncertain\",inplace=True)"
   ]
  },
  {
   "cell_type": "code",
   "execution_count": 157,
   "metadata": {},
   "outputs": [],
   "source": [
    "df_temp=df1.copy()"
   ]
  },
  {
   "cell_type": "markdown",
   "metadata": {},
   "source": [
    "---  \n",
    "---  \n",
    "## Has the call letter been shared"
   ]
  },
  {
   "cell_type": "code",
   "execution_count": 158,
   "metadata": {},
   "outputs": [
    {
     "data": {
      "text/plain": [
       "Yes               932\n",
       "Na                 19\n",
       "No                 17\n",
       "Not Sure            8\n",
       "Need To Check       3\n",
       "yes                 2\n",
       "Not yet             2\n",
       "na                  1\n",
       "no                  1\n",
       "Not sure            1\n",
       "Havent Checked      1\n",
       "Yet to Check        1\n",
       "Name: enq_call_letter, dtype: int64"
      ]
     },
     "execution_count": 158,
     "metadata": {},
     "output_type": "execute_result"
    }
   ],
   "source": [
    "df1.enq_call_letter.value_counts()"
   ]
  },
  {
   "cell_type": "code",
   "execution_count": 159,
   "metadata": {},
   "outputs": [
    {
     "name": "stdout",
     "output_type": "stream",
     "text": [
      "yes          934\n",
      "no            40\n",
      "uncertain     14\n",
      "Name: enq_call_letter, dtype: int64\n"
     ]
    }
   ],
   "source": [
    "df1.enq_call_letter=df1.enq_call_letter.str.lower()\n",
    "df1.enq_call_letter.replace([\"na\",\"not yet\",\"not sure\",\"havent checked\",\"yet to check\",\"need to check\"],[\"no\",\"no\",\"uncertain\",\"uncertain\",\"uncertain\",\"uncertain\"],inplace=True)\n",
    "print(df1.enq_call_letter.value_counts())"
   ]
  },
  {
   "cell_type": "code",
   "execution_count": 160,
   "metadata": {},
   "outputs": [
    {
     "data": {
      "text/plain": [
       "yes          934\n",
       "uncertain    259\n",
       "no            40\n",
       "Name: enq_call_letter, dtype: int64"
      ]
     },
     "execution_count": 160,
     "metadata": {},
     "output_type": "execute_result"
    }
   ],
   "source": [
    "df1.enq_call_letter.fillna(\"uncertain\",inplace=True)\n",
    "df1.enq_call_letter.value_counts()"
   ]
  },
  {
   "cell_type": "code",
   "execution_count": 161,
   "metadata": {},
   "outputs": [],
   "source": [
    "df_temp=df1.copy()"
   ]
  },
  {
   "cell_type": "markdown",
   "metadata": {},
   "source": [
    "---  \n",
    "---  \n",
    "## Expected Attendance"
   ]
  },
  {
   "cell_type": "code",
   "execution_count": 162,
   "metadata": {},
   "outputs": [
    {
     "data": {
      "text/plain": [
       "Yes          882\n",
       "Uncertain    250\n",
       "No            59\n",
       "NO            34\n",
       "10.30 Am       1\n",
       "11:00 AM       1\n",
       "yes            1\n",
       "Name: expc_at, dtype: int64"
      ]
     },
     "execution_count": 162,
     "metadata": {},
     "output_type": "execute_result"
    }
   ],
   "source": [
    "df1.expc_at.value_counts()"
   ]
  },
  {
   "cell_type": "code",
   "execution_count": 163,
   "metadata": {},
   "outputs": [
    {
     "name": "stdout",
     "output_type": "stream",
     "text": [
      "yes          885\n",
      "uncertain    250\n",
      "no            93\n",
      "Name: expc_at, dtype: int64\n"
     ]
    }
   ],
   "source": [
    "df1.expc_at=df1.expc_at.str.lower()\n",
    "df1.expc_at.replace([\"11:00 am\",\"10.30 am\"],[\"yes\",\"yes\"],inplace=True)\n",
    "print(df1.expc_at.value_counts())"
   ]
  },
  {
   "cell_type": "code",
   "execution_count": 164,
   "metadata": {},
   "outputs": [],
   "source": [
    "df1.expc_at.fillna(\"uncertain\",inplace=True)"
   ]
  },
  {
   "cell_type": "code",
   "execution_count": 165,
   "metadata": {},
   "outputs": [],
   "source": [
    "df_temp=df1.copy()"
   ]
  },
  {
   "cell_type": "markdown",
   "metadata": {},
   "source": [
    "---  \n",
    "---  \n",
    "## Observed Attendance"
   ]
  },
  {
   "cell_type": "code",
   "execution_count": 166,
   "metadata": {},
   "outputs": [
    {
     "data": {
      "text/plain": [
       "Yes     701\n",
       "No      401\n",
       "yes      81\n",
       "NO       35\n",
       "no        7\n",
       "No        6\n",
       "yes       1\n",
       "no        1\n",
       "Name: obs_at, dtype: int64"
      ]
     },
     "execution_count": 166,
     "metadata": {},
     "output_type": "execute_result"
    }
   ],
   "source": [
    "df1.obs_at.value_counts()"
   ]
  },
  {
   "cell_type": "code",
   "execution_count": 167,
   "metadata": {},
   "outputs": [
    {
     "name": "stdout",
     "output_type": "stream",
     "text": [
      "yes    783\n",
      "no     450\n",
      "Name: obs_at, dtype: int64\n"
     ]
    }
   ],
   "source": [
    "df1.obs_at=df1.obs_at.str.lower().str.strip()\n",
    "print(df1.obs_at.value_counts())"
   ]
  },
  {
   "cell_type": "code",
   "execution_count": 168,
   "metadata": {},
   "outputs": [],
   "source": [
    "df_temp=df1.copy()"
   ]
  },
  {
   "cell_type": "markdown",
   "metadata": {},
   "source": [
    "---  \n",
    "---  \n",
    "## Marital Status"
   ]
  },
  {
   "cell_type": "code",
   "execution_count": 169,
   "metadata": {},
   "outputs": [
    {
     "data": {
      "text/plain": [
       "Single     767\n",
       "Married    466\n",
       "Name: married, dtype: int64"
      ]
     },
     "execution_count": 169,
     "metadata": {},
     "output_type": "execute_result"
    }
   ],
   "source": [
    "df1.married.value_counts()"
   ]
  },
  {
   "cell_type": "code",
   "execution_count": 170,
   "metadata": {},
   "outputs": [
    {
     "name": "stdout",
     "output_type": "stream",
     "text": [
      "single     767\n",
      "married    466\n",
      "Name: married, dtype: int64\n"
     ]
    }
   ],
   "source": [
    "df1.married=df1.married.str.lower()\n",
    "print(df1.married.value_counts())"
   ]
  },
  {
   "cell_type": "code",
   "execution_count": 171,
   "metadata": {},
   "outputs": [],
   "source": [
    "df_temp=df1.copy()"
   ]
  },
  {
   "cell_type": "markdown",
   "metadata": {},
   "source": [
    "---  \n",
    "---  \n",
    "## DATE OF INTERVIEW"
   ]
  },
  {
   "cell_type": "code",
   "execution_count": 172,
   "metadata": {},
   "outputs": [],
   "source": [
    "#This is used to format the dates \n",
    "def clean_date(date):\n",
    "    date = date.str.strip()\n",
    "    date = date.str.split(\"&\").str[0]\n",
    "    date = date.str.replace('–', '/')\n",
    "    date = date.str.replace('.', '/')\n",
    "    date = date.str.replace('Apr', '04')\n",
    "    date = date.str.replace('-', '/')\n",
    "    date = date.str.replace(' ', '/')\n",
    "    date = date.str.replace('//+', '/')\n",
    "    return date"
   ]
  },
  {
   "cell_type": "markdown",
   "metadata": {},
   "source": [
    "# modeling_df = modeling_df[modeling_df['date'] < '2018-01-01'] "
   ]
  },
  {
   "cell_type": "code",
   "execution_count": 173,
   "metadata": {},
   "outputs": [],
   "source": [
    "df1['doi'] = clean_date(df1['doi'])"
   ]
  },
  {
   "cell_type": "code",
   "execution_count": 174,
   "metadata": {},
   "outputs": [
    {
     "data": {
      "text/plain": [
       "str"
      ]
     },
     "execution_count": 174,
     "metadata": {},
     "output_type": "execute_result"
    }
   ],
   "source": [
    "type(df1.doi[0])"
   ]
  },
  {
   "cell_type": "code",
   "execution_count": 175,
   "metadata": {},
   "outputs": [],
   "source": [
    "#To make all the values in the same format of date time to get the day of interview and the month of interview\n",
    "df1['year'] = df1['doi'].str.split(\"/\").str[2]\n",
    "df1['day'] = df1['doi'].str.split(\"/\").str[0]\n",
    "df1['month'] = df1['doi'].str.split(\"/\").str[1]\n",
    "df1['year'].replace(['16', '15'], ['2016', '2015'], inplace = True)\n",
    "df1['date'] = pd.to_datetime(pd.DataFrame({'year': df1['year'],\n",
    "                                            'month': df1['month'],\n",
    "                                            'day': df1['day']}), format = '%Y-%m-%d')\n",
    "df1.drop(['year', 'month', 'day'], axis = 1, inplace = True)"
   ]
  },
  {
   "cell_type": "code",
   "execution_count": 176,
   "metadata": {},
   "outputs": [],
   "source": [
    "dt=df1['date']"
   ]
  },
  {
   "cell_type": "code",
   "execution_count": 177,
   "metadata": {},
   "outputs": [],
   "source": [
    "ls=[]\n",
    "for i in range(len(dt)):\n",
    "    ls.append(dt[i].month)\n",
    "df1['month']=ls"
   ]
  },
  {
   "cell_type": "code",
   "execution_count": 178,
   "metadata": {},
   "outputs": [],
   "source": [
    "ls=[]\n",
    "for i in range(len(dt)):\n",
    "    ls.append(dt[i].weekday()+1)\n",
    "df1['day']=ls"
   ]
  },
  {
   "cell_type": "code",
   "execution_count": 179,
   "metadata": {},
   "outputs": [],
   "source": [
    "df1.drop(columns=['doi','date','skill'],axis=1,inplace=True)"
   ]
  },
  {
   "cell_type": "code",
   "execution_count": 180,
   "metadata": {},
   "outputs": [],
   "source": [
    "df_temp=df1.copy()"
   ]
  },
  {
   "cell_type": "code",
   "execution_count": 181,
   "metadata": {},
   "outputs": [
    {
     "name": "stdout",
     "output_type": "stream",
     "text": [
      "cl_nam   0\n",
      "indus   0\n",
      "cl_loc   0\n",
      "pos   0\n",
      "intrvw_typ   0\n",
      "cand_nam   0\n",
      "gend   0\n",
      "cand_cur_loc   0\n",
      "cand_j_loc   0\n",
      "intrvw_ven   0\n",
      "cand_nat_loc   0\n",
      "enq_perm   0\n",
      "enq_unsch_meet   0\n",
      "enq_call   0\n",
      "enq_num   0\n",
      "enq_resume   0\n",
      "enq_ven   0\n",
      "enq_call_letter   0\n",
      "expc_at   0\n",
      "obs_at   0\n",
      "married   0\n",
      "month   0\n",
      "day   0\n"
     ]
    }
   ],
   "source": [
    "for col in df1.columns:\n",
    "    print(col,\" \",df1[col].isna().sum())"
   ]
  },
  {
   "cell_type": "code",
   "execution_count": 182,
   "metadata": {},
   "outputs": [],
   "source": [
    "df_temp=df1.copy()"
   ]
  },
  {
   "cell_type": "markdown",
   "metadata": {},
   "source": [
    "---  \n",
    "---  \n",
    "# Cleaned:"
   ]
  },
  {
   "cell_type": "code",
   "execution_count": 183,
   "metadata": {},
   "outputs": [
    {
     "name": "stdout",
     "output_type": "stream",
     "text": [
      "<class 'pandas.core.frame.DataFrame'>\n",
      "Int64Index: 1233 entries, 0 to 1232\n",
      "Data columns (total 23 columns):\n",
      "cl_nam             1233 non-null object\n",
      "indus              1233 non-null object\n",
      "cl_loc             1233 non-null object\n",
      "pos                1233 non-null object\n",
      "intrvw_typ         1233 non-null object\n",
      "cand_nam           1233 non-null object\n",
      "gend               1233 non-null object\n",
      "cand_cur_loc       1233 non-null object\n",
      "cand_j_loc         1233 non-null object\n",
      "intrvw_ven         1233 non-null object\n",
      "cand_nat_loc       1233 non-null object\n",
      "enq_perm           1233 non-null object\n",
      "enq_unsch_meet     1233 non-null object\n",
      "enq_call           1233 non-null object\n",
      "enq_num            1233 non-null object\n",
      "enq_resume         1233 non-null object\n",
      "enq_ven            1233 non-null object\n",
      "enq_call_letter    1233 non-null object\n",
      "expc_at            1233 non-null object\n",
      "obs_at             1233 non-null object\n",
      "married            1233 non-null object\n",
      "month              1233 non-null int64\n",
      "day                1233 non-null int64\n",
      "dtypes: int64(2), object(21)\n",
      "memory usage: 271.2+ KB\n"
     ]
    }
   ],
   "source": [
    "df1.info()"
   ]
  },
  {
   "cell_type": "code",
   "execution_count": 184,
   "metadata": {},
   "outputs": [
    {
     "data": {
      "text/html": [
       "<div>\n",
       "<style scoped>\n",
       "    .dataframe tbody tr th:only-of-type {\n",
       "        vertical-align: middle;\n",
       "    }\n",
       "\n",
       "    .dataframe tbody tr th {\n",
       "        vertical-align: top;\n",
       "    }\n",
       "\n",
       "    .dataframe thead th {\n",
       "        text-align: right;\n",
       "    }\n",
       "</style>\n",
       "<table border=\"1\" class=\"dataframe\">\n",
       "  <thead>\n",
       "    <tr style=\"text-align: right;\">\n",
       "      <th></th>\n",
       "      <th>cl_nam</th>\n",
       "      <th>indus</th>\n",
       "      <th>cl_loc</th>\n",
       "      <th>pos</th>\n",
       "      <th>intrvw_typ</th>\n",
       "      <th>cand_nam</th>\n",
       "      <th>gend</th>\n",
       "      <th>cand_cur_loc</th>\n",
       "      <th>cand_j_loc</th>\n",
       "      <th>intrvw_ven</th>\n",
       "      <th>...</th>\n",
       "      <th>enq_call</th>\n",
       "      <th>enq_num</th>\n",
       "      <th>enq_resume</th>\n",
       "      <th>enq_ven</th>\n",
       "      <th>enq_call_letter</th>\n",
       "      <th>expc_at</th>\n",
       "      <th>obs_at</th>\n",
       "      <th>married</th>\n",
       "      <th>month</th>\n",
       "      <th>day</th>\n",
       "    </tr>\n",
       "  </thead>\n",
       "  <tbody>\n",
       "    <tr>\n",
       "      <th>0</th>\n",
       "      <td>hospira</td>\n",
       "      <td>pharmaceuticals</td>\n",
       "      <td>chennai</td>\n",
       "      <td>production- sterile</td>\n",
       "      <td>scheduled walkin</td>\n",
       "      <td>Candidate 1</td>\n",
       "      <td>male</td>\n",
       "      <td>chennai</td>\n",
       "      <td>chennai</td>\n",
       "      <td>hosur</td>\n",
       "      <td>...</td>\n",
       "      <td>yes</td>\n",
       "      <td>yes</td>\n",
       "      <td>yes</td>\n",
       "      <td>yes</td>\n",
       "      <td>yes</td>\n",
       "      <td>yes</td>\n",
       "      <td>no</td>\n",
       "      <td>single</td>\n",
       "      <td>2</td>\n",
       "      <td>5</td>\n",
       "    </tr>\n",
       "    <tr>\n",
       "      <th>1</th>\n",
       "      <td>hospira</td>\n",
       "      <td>pharmaceuticals</td>\n",
       "      <td>chennai</td>\n",
       "      <td>production- sterile</td>\n",
       "      <td>scheduled walkin</td>\n",
       "      <td>Candidate 2</td>\n",
       "      <td>male</td>\n",
       "      <td>chennai</td>\n",
       "      <td>chennai</td>\n",
       "      <td>hosur</td>\n",
       "      <td>...</td>\n",
       "      <td>yes</td>\n",
       "      <td>yes</td>\n",
       "      <td>yes</td>\n",
       "      <td>yes</td>\n",
       "      <td>yes</td>\n",
       "      <td>yes</td>\n",
       "      <td>no</td>\n",
       "      <td>single</td>\n",
       "      <td>2</td>\n",
       "      <td>5</td>\n",
       "    </tr>\n",
       "    <tr>\n",
       "      <th>2</th>\n",
       "      <td>hospira</td>\n",
       "      <td>pharmaceuticals</td>\n",
       "      <td>chennai</td>\n",
       "      <td>production- sterile</td>\n",
       "      <td>scheduled walkin</td>\n",
       "      <td>Candidate 3</td>\n",
       "      <td>male</td>\n",
       "      <td>chennai</td>\n",
       "      <td>chennai</td>\n",
       "      <td>hosur</td>\n",
       "      <td>...</td>\n",
       "      <td>uncertain</td>\n",
       "      <td>uncertain</td>\n",
       "      <td>uncertain</td>\n",
       "      <td>uncertain</td>\n",
       "      <td>uncertain</td>\n",
       "      <td>uncertain</td>\n",
       "      <td>no</td>\n",
       "      <td>single</td>\n",
       "      <td>2</td>\n",
       "      <td>5</td>\n",
       "    </tr>\n",
       "    <tr>\n",
       "      <th>3</th>\n",
       "      <td>hospira</td>\n",
       "      <td>pharmaceuticals</td>\n",
       "      <td>chennai</td>\n",
       "      <td>production- sterile</td>\n",
       "      <td>scheduled walkin</td>\n",
       "      <td>Candidate 4</td>\n",
       "      <td>male</td>\n",
       "      <td>chennai</td>\n",
       "      <td>chennai</td>\n",
       "      <td>hosur</td>\n",
       "      <td>...</td>\n",
       "      <td>no</td>\n",
       "      <td>yes</td>\n",
       "      <td>no</td>\n",
       "      <td>yes</td>\n",
       "      <td>yes</td>\n",
       "      <td>uncertain</td>\n",
       "      <td>no</td>\n",
       "      <td>single</td>\n",
       "      <td>2</td>\n",
       "      <td>5</td>\n",
       "    </tr>\n",
       "    <tr>\n",
       "      <th>4</th>\n",
       "      <td>hospira</td>\n",
       "      <td>pharmaceuticals</td>\n",
       "      <td>chennai</td>\n",
       "      <td>production- sterile</td>\n",
       "      <td>scheduled walkin</td>\n",
       "      <td>Candidate 5</td>\n",
       "      <td>male</td>\n",
       "      <td>chennai</td>\n",
       "      <td>chennai</td>\n",
       "      <td>hosur</td>\n",
       "      <td>...</td>\n",
       "      <td>yes</td>\n",
       "      <td>no</td>\n",
       "      <td>yes</td>\n",
       "      <td>yes</td>\n",
       "      <td>yes</td>\n",
       "      <td>uncertain</td>\n",
       "      <td>no</td>\n",
       "      <td>married</td>\n",
       "      <td>2</td>\n",
       "      <td>5</td>\n",
       "    </tr>\n",
       "  </tbody>\n",
       "</table>\n",
       "<p>5 rows × 23 columns</p>\n",
       "</div>"
      ],
      "text/plain": [
       "    cl_nam            indus   cl_loc                  pos        intrvw_typ  \\\n",
       "0  hospira  pharmaceuticals  chennai  production- sterile  scheduled walkin   \n",
       "1  hospira  pharmaceuticals  chennai  production- sterile  scheduled walkin   \n",
       "2  hospira  pharmaceuticals  chennai  production- sterile  scheduled walkin   \n",
       "3  hospira  pharmaceuticals  chennai  production- sterile  scheduled walkin   \n",
       "4  hospira  pharmaceuticals  chennai  production- sterile  scheduled walkin   \n",
       "\n",
       "      cand_nam  gend cand_cur_loc cand_j_loc intrvw_ven ...   enq_call  \\\n",
       "0  Candidate 1  male      chennai    chennai      hosur ...        yes   \n",
       "1  Candidate 2  male      chennai    chennai      hosur ...        yes   \n",
       "2  Candidate 3  male      chennai    chennai      hosur ...  uncertain   \n",
       "3  Candidate 4  male      chennai    chennai      hosur ...         no   \n",
       "4  Candidate 5  male      chennai    chennai      hosur ...        yes   \n",
       "\n",
       "     enq_num enq_resume    enq_ven enq_call_letter    expc_at obs_at  married  \\\n",
       "0        yes        yes        yes             yes        yes     no   single   \n",
       "1        yes        yes        yes             yes        yes     no   single   \n",
       "2  uncertain  uncertain  uncertain       uncertain  uncertain     no   single   \n",
       "3        yes         no        yes             yes  uncertain     no   single   \n",
       "4         no        yes        yes             yes  uncertain     no  married   \n",
       "\n",
       "  month day  \n",
       "0     2   5  \n",
       "1     2   5  \n",
       "2     2   5  \n",
       "3     2   5  \n",
       "4     2   5  \n",
       "\n",
       "[5 rows x 23 columns]"
      ]
     },
     "execution_count": 184,
     "metadata": {},
     "output_type": "execute_result"
    }
   ],
   "source": [
    "df1.head()"
   ]
  },
  {
   "cell_type": "code",
   "execution_count": 185,
   "metadata": {},
   "outputs": [],
   "source": [
    "df1.drop('cand_nam',axis=1,inplace=True)"
   ]
  },
  {
   "cell_type": "code",
   "execution_count": 186,
   "metadata": {},
   "outputs": [],
   "source": [
    "df2=df1.copy()\n",
    "def t(col):\n",
    "    j=1\n",
    "    dic={}\n",
    "    for i in df2[col].value_counts().index:\n",
    "        dic[i]=j\n",
    "        j+=1\n",
    "    df2[col].replace(dic,inplace=True)"
   ]
  },
  {
   "cell_type": "code",
   "execution_count": 187,
   "metadata": {},
   "outputs": [],
   "source": [
    "for col in df2.columns:\n",
    "    if(col=='month' or col=='day'):\n",
    "        continue\n",
    "    t(col)"
   ]
  },
  {
   "cell_type": "code",
   "execution_count": 200,
   "metadata": {},
   "outputs": [],
   "source": [
    "ohel = df2.drop(['obs_at','expc_at'],axis=1).columns.tolist()\n",
    "df3 = pd.get_dummies(df2, prefix=ohel, columns=ohel)"
   ]
  },
  {
   "cell_type": "markdown",
   "metadata": {},
   "source": [
    "--- \n",
    "---  "
   ]
  },
  {
   "cell_type": "code",
   "execution_count": 202,
   "metadata": {},
   "outputs": [
    {
     "data": {
      "text/plain": [
       "145"
      ]
     },
     "execution_count": 202,
     "metadata": {},
     "output_type": "execute_result"
    }
   ],
   "source": [
    "df3.columns.value_counts().sum()"
   ]
  },
  {
   "cell_type": "code",
   "execution_count": 238,
   "metadata": {},
   "outputs": [],
   "source": [
    "X = df3.drop(['obs_at','expc_at'],axis=1)\n",
    "y = df3['obs_at']"
   ]
  },
  {
   "cell_type": "code",
   "execution_count": 294,
   "metadata": {},
   "outputs": [],
   "source": [
    "thresholder = VarianceThreshold(threshold=.21)"
   ]
  },
  {
   "cell_type": "code",
   "execution_count": 295,
   "metadata": {},
   "outputs": [],
   "source": [
    "X_high_variance = thresholder.fit_transform(X)"
   ]
  },
  {
   "cell_type": "code",
   "execution_count": 293,
   "metadata": {},
   "outputs": [
    {
     "data": {
      "text/plain": [
       "10"
      ]
     },
     "execution_count": 293,
     "metadata": {},
     "output_type": "execute_result"
    }
   ],
   "source": [
    "len(df3.columns[thresholder.get_support(indices=True)])"
   ]
  },
  {
   "cell_type": "code",
   "execution_count": 292,
   "metadata": {},
   "outputs": [
    {
     "data": {
      "text/plain": [
       "1    949\n",
       "2    165\n",
       "3     79\n",
       "4     23\n",
       "5     17\n",
       "Name: indus, dtype: int64"
      ]
     },
     "execution_count": 292,
     "metadata": {},
     "output_type": "execute_result"
    }
   ],
   "source": [
    "df2['indus'].value_counts()"
   ]
  },
  {
   "cell_type": "code",
   "execution_count": null,
   "metadata": {},
   "outputs": [],
   "source": []
  }
 ],
 "metadata": {
  "kernelspec": {
   "display_name": "Python 3",
   "language": "python",
   "name": "python3"
  },
  "language_info": {
   "codemirror_mode": {
    "name": "ipython",
    "version": 3
   },
   "file_extension": ".py",
   "mimetype": "text/x-python",
   "name": "python",
   "nbconvert_exporter": "python",
   "pygments_lexer": "ipython3",
   "version": "3.7.1"
  }
 },
 "nbformat": 4,
 "nbformat_minor": 2
}
